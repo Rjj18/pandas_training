{
  "nbformat": 4,
  "nbformat_minor": 0,
  "metadata": {
    "colab": {
      "provenance": []
    },
    "kernelspec": {
      "name": "python3",
      "display_name": "Python 3"
    },
    "language_info": {
      "name": "python"
    }
  },
  "cells": [
    {
      "cell_type": "code",
      "execution_count": null,
      "metadata": {
        "id": "Hc1BTXGkb9DT"
      },
      "outputs": [],
      "source": [
        "# prompt: funcao para importar arquivos csv\n",
        "\n",
        "import pandas as pd\n",
        "\n",
        "def importar_csv(caminho_arquivo):\n",
        "  \"\"\"\n",
        "  Importa um arquivo CSV para um DataFrame pandas.\n",
        "\n",
        "  Args:\n",
        "    caminho_arquivo (str): O caminho para o arquivo CSV.\n",
        "\n",
        "  Returns:\n",
        "    pd.DataFrame: O DataFrame pandas contendo os dados do arquivo CSV.\n",
        "  \"\"\"\n",
        "  try:\n",
        "    df = pd.read_csv(caminho_arquivo)\n",
        "    print(f\"Arquivo '{caminho_arquivo}' importado com sucesso.\")\n",
        "    return df\n",
        "  except FileNotFoundError:\n",
        "    print(f\"Erro: O arquivo '{caminho_arquivo}' não foi encontrado.\")\n",
        "    return None\n",
        "  except Exception as e:\n",
        "    print(f\"Ocorreu um erro ao importar o arquivo: {e}\")\n",
        "    return None\n",
        "\n",
        "# Exemplo de uso:\n",
        "# caminho_do_seu_arquivo = 'seu_arquivo.csv'  # Substitua pelo caminho do seu arquivo CSV\n",
        "# dataframe_importado = importar_csv(caminho_do_seu_arquivo)\n",
        "\n",
        "# if dataframe_importado is not None:\n",
        "#   print(\"\\nConteúdo do DataFrame:\")\n",
        "#   print(dataframe_importado.head())\n"
      ]
    }
  ]
}